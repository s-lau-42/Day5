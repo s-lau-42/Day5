{
 "cells": [
  {
   "cell_type": "code",
   "execution_count": null,
   "metadata": {},
   "outputs": [],
   "source": [
    "tupellist = [(50000, 0.08), (100000, 0.1)]\n",
    "income = 120000\n",
    "\n",
    "def calculator(taxlist, income):\n",
    "    total = 0\n",
    "    inc = income\n",
    "\n",
    "    if income < taxlist[0][0]:\n",
    "        total += income * taxlist[0][1]\n",
    "        return total\n",
    "    \n",
    "    else:\n",
    "        for i in range(1,len(taxlist)):\n",
    "            #if income <= taxlist[i][0]:\n",
    "                for j in range(i+1):\n",
    "                    if inc > taxlist[j][0]:  \n",
    "                        total += taxlist[j][0] * taxlist[j][1]\n",
    "                        inc -= taxlist[j][0]\n",
    "                    \n",
    "                    else:\n",
    "                        total += inc * taxlist[j][1]\n",
    "                        #print(total)\n",
    "            #else:...\n",
    "        return total\n",
    "                    \n",
    "        \n",
    "        \n",
    "        \n",
    "##        else:\n",
    "#            continue\n",
    "            \n",
    "#            (income - taxlist[j][0]) \n",
    "            \n",
    "#    return total\n",
    "     \n",
    "#compare(tupellist, income)\n",
    "\n",
    "#def calculator(taxlist, income):\n",
    "    \n",
    "    \n",
    "calculator(tupellist, income)"
   ]
  },
  {
   "cell_type": "markdown",
   "metadata": {},
   "source": [
    "## As that the program above doesn't work for bigger list, here is also a fixed program, which was done outside of the 1 hour time we had."
   ]
  },
  {
   "cell_type": "code",
   "execution_count": 2,
   "metadata": {},
   "outputs": [
    {
     "data": {
      "text/plain": [
       "101500.0"
      ]
     },
     "execution_count": 2,
     "metadata": {},
     "output_type": "execute_result"
    }
   ],
   "source": [
    "tupellist = [(50000, 0.08), (100000, 0.1), (150000, 0.15), (200000, 0.5), (240000, 0.6)]\n",
    "income = 300000\n",
    "\n",
    "def calculator(taxlist, income):\n",
    "    total = 0\n",
    "    inc = income\n",
    "    maximum_pos = 0\n",
    "    taxlist.insert(0,(0,0))   #We have to insert a (0,0) so we dont run into problems in the loop later\n",
    "    \n",
    "    for k in range(0, len(taxlist)):\n",
    "        \n",
    "        if income <= taxlist[k][0]:\n",
    "            maximum_pos = k + 1\n",
    "            break\n",
    "        \n",
    "        else:\n",
    "            maximum_pos = len(taxlist)\n",
    "\n",
    "    for i in range(1,maximum_pos):\n",
    "        \n",
    "        if income > taxlist[i][0] and i != maximum_pos-1:  \n",
    "            total += (taxlist[i][0] - taxlist[i-1][0]) * taxlist[i][1]\n",
    "            inc -= (taxlist[i][0] - taxlist[i-1][0])\n",
    "\n",
    "        else:\n",
    "            total += inc * taxlist[i][1]\n",
    "\n",
    "\n",
    "    return total\n",
    "                    \n",
    "    \n",
    "calculator(tupellist, income)\n",
    "\n",
    "\n"
   ]
  },
  {
   "cell_type": "markdown",
   "metadata": {},
   "source": [
    "## Another way of doing it:"
   ]
  },
  {
   "cell_type": "code",
   "execution_count": 4,
   "metadata": {},
   "outputs": [
    {
     "data": {
      "text/plain": [
       "9000.0"
      ]
     },
     "execution_count": 4,
     "metadata": {},
     "output_type": "execute_result"
    }
   ],
   "source": [
    "tupellist = [(50000, 0.08), (100000, 0.1), (150000, 0.15), (200000, 0.5), (240000, 0.6)]\n",
    "income = 100000\n",
    "\n",
    "\n",
    "\n",
    "def calculator(taxlist, income):\n",
    "    maximum_pos = 0\n",
    "    taxlist.insert(0,(0,0))   #We have to insert a (0,0) so we dont run into problems in the loop later\n",
    "    \n",
    "    maximum_pos = max([k + 1 for k in range(0, len(taxlist) - 1) if income > taxlist[k][0]])\n",
    "    \n",
    "    return sum([(taxlist[i][0] - taxlist[i-1][0]) * taxlist[i][1] for i in range(1,maximum_pos+1)]) \\\n",
    "                        + (income-taxlist[maximum_pos][0])*taxlist[maximum_pos][1]\n",
    "\n",
    "                 \n",
    "calculator(tupellist, income)"
   ]
  },
  {
   "cell_type": "markdown",
   "metadata": {},
   "source": [
    "## Yet another way:"
   ]
  },
  {
   "cell_type": "code",
   "execution_count": null,
   "metadata": {},
   "outputs": [],
   "source": [
    "tax_list = [(50000, 0.08), (100000, 0.10), (150000, 0.15), (200000, 0.20), (250000, 0.25)]\n",
    "income = 40000\n",
    "\n",
    "def tax_calculator2(income, tax_list):\n",
    "    \n",
    "    tax_list.insert(0, (0,0))\n",
    "\n",
    "    taxtotal = sum([(income * (tax_list[i][1] - tax_list[i-1][1]) \\\n",
    "                     + tax_list[i-1][0] * (tax_list[i-1][1] - tax_list[i][1])) \\\n",
    "                     for i in range(1, len(tax_list)) if income > tax_list[i-1][0]])\n",
    "\n",
    "    return round(taxtotal, 2)\n",
    "\n",
    "\n",
    "print(tax_calculator2(income, tax_list))"
   ]
  },
  {
   "cell_type": "code",
   "execution_count": null,
   "metadata": {},
   "outputs": [],
   "source": [
    "tax_list = [(50000, 0.08), (100000, 0.10), (150000, 0.15), (200000, 0.20), (250000, 0.25)]\n",
    "income = 260000\n",
    "\n",
    "def tax_calculator2(income, tax_list):\n",
    "    \n",
    "    tax_list.insert(0, (0,0))\n",
    "\n",
    "    taxtotal = sum([(income - tax_list[i-1][0]) * (tax_list[i][1] - tax_list[i-1][1]) \\\n",
    "                     for i in range(1, len(tax_list)) if income > tax_list[i-1][0]])\n",
    "\n",
    "    return round(taxtotal, 2)\n",
    "\n",
    "\n",
    "print(tax_calculator2(income, tax_list))"
   ]
  }
 ],
 "metadata": {
  "kernelspec": {
   "display_name": "Python [conda env:nf] *",
   "language": "python",
   "name": "conda-env-nf-py"
  },
  "language_info": {
   "codemirror_mode": {
    "name": "ipython",
    "version": 3
   },
   "file_extension": ".py",
   "mimetype": "text/x-python",
   "name": "python",
   "nbconvert_exporter": "python",
   "pygments_lexer": "ipython3",
   "version": "3.6.6"
  }
 },
 "nbformat": 4,
 "nbformat_minor": 2
}
